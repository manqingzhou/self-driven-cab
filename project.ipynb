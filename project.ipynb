{
 "cells": [
  {
   "cell_type": "code",
   "execution_count": 1,
   "metadata": {},
   "outputs": [
    {
     "name": "stdout",
     "output_type": "stream",
     "text": [
      "Requirement already satisfied: cmake in /opt/anaconda3/lib/python3.7/site-packages (3.15.3)\n",
      "Requirement already satisfied: gym[atari] in /opt/anaconda3/lib/python3.7/site-packages (0.15.4)\n",
      "Requirement already satisfied: scipy in /opt/anaconda3/lib/python3.7/site-packages (1.3.1)\n",
      "Requirement already satisfied: numpy>=1.10.4 in /opt/anaconda3/lib/python3.7/site-packages (from gym[atari]) (1.17.2)\n",
      "Requirement already satisfied: pyglet<=1.3.2,>=1.2.0 in /opt/anaconda3/lib/python3.7/site-packages (from gym[atari]) (1.3.2)\n",
      "Requirement already satisfied: cloudpickle~=1.2.0 in /opt/anaconda3/lib/python3.7/site-packages (from gym[atari]) (1.2.2)\n",
      "Requirement already satisfied: opencv-python in /opt/anaconda3/lib/python3.7/site-packages (from gym[atari]) (4.1.2.30)\n",
      "Requirement already satisfied: six in /opt/anaconda3/lib/python3.7/site-packages (from gym[atari]) (1.12.0)\n",
      "Requirement already satisfied: Pillow; extra == \"atari\" in /opt/anaconda3/lib/python3.7/site-packages (from gym[atari]) (6.2.0)\n",
      "Requirement already satisfied: atari-py~=0.2.0; extra == \"atari\" in /opt/anaconda3/lib/python3.7/site-packages (from gym[atari]) (0.2.6)\n",
      "Requirement already satisfied: future in /opt/anaconda3/lib/python3.7/site-packages (from pyglet<=1.3.2,>=1.2.0->gym[atari]) (0.17.1)\n",
      "+---------+\n",
      "|R: | : :G|\n",
      "| : | : :\u001b[43m \u001b[0m|\n",
      "| : : : : |\n",
      "| | : | : |\n",
      "|\u001b[34;1mY\u001b[0m| : |\u001b[35mB\u001b[0m: |\n",
      "+---------+\n",
      "\n"
     ]
    }
   ],
   "source": [
    "#this is all the environment we need\n",
    "!pip install cmake 'gym[atari]' scipy #functions: env.step,env.render and env.reset\n",
    "import gym\n",
    "import numpy as np\n",
    "import random\n",
    "from IPython.display import clear_output\n",
    "import matplotlib.pyplot as plt\n",
    "env = gym.make(\"Taxi-v3\").env\n",
    "env.render() #blue is the pick-up location and purple is the current destination"
   ]
  },
  {
   "cell_type": "code",
   "execution_count": 2,
   "metadata": {},
   "outputs": [],
   "source": [
    "# 4 locations, the job is to pick up the passenger at one location and drop him off at another\n",
    "# 20 points--successful drop-off, -1 point for every time-step, -10 penalty for illegal pick-up and drop-off\n",
    "#print(\"Action Space {}\".format(env.action_space))\n",
    "#0-south 1-north 2-east 3-west 4-pick 5-dropoff\n",
    "#print(\"State Space {}\".format(env.observation_space)) 500 25*5*4\n",
    "#optimal action for each state is the actino that has the highest cumulative long-term reward"
   ]
  },
  {
   "cell_type": "code",
   "execution_count": 3,
   "metadata": {},
   "outputs": [
    {
     "name": "stdout",
     "output_type": "stream",
     "text": [
      "the initial state space is: 242\n",
      "+---------+\n",
      "|\u001b[34;1mR\u001b[0m: | : :G|\n",
      "| : | : : |\n",
      "| : :\u001b[43m \u001b[0m: : |\n",
      "| | : | : |\n",
      "|\u001b[35mY\u001b[0m| : |B: |\n",
      "+---------+\n",
      "\n"
     ]
    }
   ],
   "source": [
    "state = env.encode(2,2,0,2)#(pick up at R, drop off at Y)\n",
    "print(\"the initial state space is:\", state)# 242\n",
    "env.s = state\n",
    "env.render()"
   ]
  },
  {
   "cell_type": "code",
   "execution_count": 4,
   "metadata": {},
   "outputs": [
    {
     "name": "stdout",
     "output_type": "stream",
     "text": [
      "{0: [(1.0, 342, -1, False)], 1: [(1.0, 142, -1, False)], 2: [(1.0, 262, -1, False)], 3: [(1.0, 222, -1, False)], 4: [(1.0, 242, -10, False)], 5: [(1.0, 242, -10, False)]}\n"
     ]
    }
   ],
   "source": [
    "print(env.P[242])"
   ]
  },
  {
   "cell_type": "code",
   "execution_count": 5,
   "metadata": {},
   "outputs": [
    {
     "name": "stdout",
     "output_type": "stream",
     "text": [
      "Timesteps taken: 8287\n",
      "Penalty happens: 2794\n"
     ]
    }
   ],
   "source": [
    "#brute-force our way to solving the problem without RL\n",
    "env.s = 242\n",
    "epochs = 0 #count the total number of steps\n",
    "penalties, reward = 0,0\n",
    "frames = [] #for animation\n",
    "done = False #[1.0,342,-1,False]\n",
    "while not done:\n",
    "    action = env.action_space.sample()\n",
    "    state,reward,done,info = env.step(action)\n",
    "    if reward == -10:\n",
    "        penalties +=1\n",
    "    frames.append({\n",
    "        'frame': env.render(mode='ansi'),\n",
    "        'state':state,\n",
    "        'action':action,\n",
    "        'reward':reward\n",
    "         }\n",
    "     )\n",
    "    epochs +=1\n",
    "print(\"Timesteps taken: {}\".format(epochs))\n",
    "print(\"Penalty happens: {}\".format(penalties))\n",
    "#this is because we arent learning from past experience.\n",
    "\n",
    "#gonna write a function here \n",
    "\n",
    "    "
   ]
  },
  {
   "cell_type": "code",
   "execution_count": 6,
   "metadata": {},
   "outputs": [],
   "source": [
    "#q_learning to learn from the past and choose the best action\n",
    "#our Q-Table is 500 * 6(state * action)\n",
    "#after enough random exploration of actions, the Q-values tend to converge to a stable state-action table\n",
    "\n"
   ]
  },
  {
   "cell_type": "code",
   "execution_count": 7,
   "metadata": {},
   "outputs": [],
   "source": [
    "def choose_a(state):\n",
    "    if np.random.binomial(1, epsilon) == 1:\n",
    "            \n",
    "            action = env.action_space.sample()\n",
    "    else:\n",
    "            action = np.argmax(q_table[state])\n",
    "    return action\n",
    "        \n",
    "           \n",
    "\n",
    "  "
   ]
  },
  {
   "cell_type": "code",
   "execution_count": 8,
   "metadata": {},
   "outputs": [
    {
     "data": {
      "image/png": "[encoded data removed]",
      "text/plain": [
       "<Figure size 432x288 with 1 Axes>"
      ]
     },
     "metadata": {
      "needs_background": "light"
     },
     "output_type": "display_data"
    },
    {
     "name": "stdout",
     "output_type": "stream",
     "text": [
      "13\n"
     ]
    }
   ],
   "source": [
    "#Parameters\n",
    "# alpha = 0.1\n",
    "# gamma = 0.6\n",
    "epsilon = 0.1\n",
    "#greedy policy\n",
    "q_table = np.zeros([env.observation_space.n,env.action_space.n])\n",
    "#gonna write a function here \n",
    "episode_limit = 10001\n",
    "def q_learning(episode_limit,q_table,alpha =0.1,gamma = 0.6):\n",
    "    y = np.zeros((episode_limit,1))\n",
    "    for i in range(1,episode_limit):\n",
    "        state = env.reset() #every single time we reset the enviroment\n",
    "        epoch,penalty,reward =0,0,0\n",
    "        done = False\n",
    "   \n",
    "        while not done:\n",
    "            action = choose_a(state)\n",
    "            next_state,reward,done,info = env.step(action)\n",
    "            q_table[state,action] = q_table[state,action] + alpha *(reward + gamma * np.max(q_table[next_state])-q_table[state,action])\n",
    "            if reward == -10:\n",
    "                penalty += 1\n",
    "            state = next_state\n",
    "     \n",
    "      \n",
    "            epoch += 1\n",
    "        y[i] = epoch \n",
    "         \n",
    "#     if i % 100 == 0:\n",
    "#         clear_output(wait=True)\n",
    "#         print(f\"Episode: {i}\")\n",
    "    return y,epoch\n",
    "\n",
    "y,epoch= q_learning(episode_limit,q_table,alpha =0.1,gamma = 0.6)\n",
    "\n",
    "x = np.arange(10001)\n",
    "plt.plot(x,y)\n",
    "plt.xlabel('episode')\n",
    "plt.ylabel('timestep')\n",
    "plt.title('q_learning')\n",
    "plt.show()\n",
    "\n",
    "print(epoch)\n",
    "\n",
    "\n",
    "\n",
    "\n",
    "      "
   ]
  },
  {
   "cell_type": "code",
   "execution_count": 24,
   "metadata": {},
   "outputs": [
    {
     "name": "stdout",
     "output_type": "stream",
     "text": [
      "1\n"
     ]
    }
   ],
   "source": []
  },
  {
   "cell_type": "code",
   "execution_count": 27,
   "metadata": {},
   "outputs": [
    {
     "name": "stdout",
     "output_type": "stream",
     "text": [
      "Results after 100 episodes:\n",
      "Average timesteps per episode: 19.58\n",
      "Average penalties per episode: 0.56\n"
     ]
    }
   ],
   "source": [
    "total_penalties,total_epochs =0,0\n",
    "policy = [np.argmax(i) for i in q_table]\n",
    "for _ in range(episodes):\n",
    "    state = env.reset()\n",
    "\n",
    "    epochs, penalties, reward = 0, 0, 0\n",
    "     \n",
    "    done = False\n",
    "    \n",
    "    while not done:\n",
    "        action = choose_a(state)\n",
    "        state,reward,done,info = env.step(action)\n",
    "      \n",
    "\n",
    "        if reward == -10:\n",
    "            penalties += 1\n",
    "   \n",
    "\n",
    "        epochs += 1\n",
    "\n",
    "    total_penalties += penalties\n",
    "    total_epochs += epochs\n",
    "\n",
    "print(f\"Results after {episodes} episodes:\")\n",
    "print(f\"Average timesteps per episode: {total_epochs / episodes}\")\n",
    "print(f\"Average penalties per episode: {total_penalties / episodes}\")"
   ]
  },
  {
   "cell_type": "code",
   "execution_count": null,
   "metadata": {},
   "outputs": [],
   "source": [
    "for i in q_table:\n",
    "    print (i)\n"
   ]
  },
  {
   "cell_type": "code",
   "execution_count": 20,
   "metadata": {},
   "outputs": [
    {
     "data": {
      "image/png": "[encoded data removed]",
      "text/plain": [
       "<Figure size 432x288 with 1 Axes>"
      ]
     },
     "metadata": {
      "needs_background": "light"
     },
     "output_type": "display_data"
    },
    {
     "name": "stdout",
     "output_type": "stream",
     "text": [
      "17\n"
     ]
    }
   ],
   "source": [
    "q_table = np.zeros([env.observation_space.n,env.action_space.n])\n",
    "#gonna write a function here \n",
    "episode_limit = 10001\n",
    "def q_learning_lambda(episode_limit,q_table,alpha =0.1,gamma = 0.6,lam = 0.5):\n",
    "    y = np.zeros((episode_limit,1))\n",
    "\n",
    "    for i in range(1,episode_limit):\n",
    "        state = env.reset() #every single time we reset the enviroment\n",
    "        epoch,penalty,reward =0,0,0\n",
    "        done = False\n",
    "        e = np.zeros([env.observation_space.n,env.action_space.n])\n",
    "   \n",
    "        while not done:\n",
    "            action = choose_a(state)\n",
    "            next_state,reward,done,info = env.step(action)\n",
    "            next_action = choose_a(next_state)\n",
    "            best_a = np.argmax(q_table[next_state])\n",
    "            error = reward + gamma * q_table[next_state,best_a] - q_table[state,action]\n",
    "            e[state,action] += 1\n",
    "            q_table[state,action] += alpha * error * e[state,action]\n",
    "            if next_action == best_a:\n",
    "                e[state,action] = gamma * lam * e[state,action]\n",
    "            else:\n",
    "                e[state,action] = 0\n",
    "            if reward == -10:\n",
    "                penalty += 1\n",
    "            state = next_state\n",
    "     \n",
    "      \n",
    "            epoch += 1\n",
    "        y[i] = epoch \n",
    "         \n",
    "#     if i % 100 == 0:\n",
    "#         clear_output(wait=True)\n",
    "#         print(f\"Episode: {i}\")\n",
    "    return y,epoch\n",
    "\n",
    "y1,epoch = q_learning_lambda(episode_limit,q_table,alpha =0.1,gamma = 0.6,lam = 0.5)\n",
    "\n",
    "x1 = np.arange(10001)\n",
    "plt.plot(x1,y1)\n",
    "plt.xlabel('episode')\n",
    "plt.ylabel('timestep')\n",
    "plt.title('q_learning_lambda')\n",
    "plt.show()\n",
    "print(epoch)\n",
    "\n",
    "\n"
   ]
  },
  {
   "cell_type": "code",
   "execution_count": null,
   "metadata": {},
   "outputs": [],
   "source": [
    "#policy=[np.argmax(q_table[i]) for i in q_table]\n",
    "\n"
   ]
  },
  {
   "cell_type": "code",
   "execution_count": null,
   "metadata": {},
   "outputs": [],
   "source": [
    "# print(f\"Results after {episodes} episodes:\")\n",
    "# print(f\"Average timesteps per episode: {total_epochs / episodes}\")\n",
    "# print(f\"Average penalties per episode: {total_penalties / episodes}\")\n"
   ]
  },
  {
   "cell_type": "code",
   "execution_count": 21,
   "metadata": {},
   "outputs": [
    {
     "name": "stdout",
     "output_type": "stream",
     "text": [
      "+---------+\n",
      "|R: | : :G|\n",
      "| : | : : |\n",
      "| : : : : |\n",
      "| | : | : |\n",
      "|Y| : |\u001b[35m\u001b[34;1m\u001b[43mB\u001b[0m\u001b[0m\u001b[0m: |\n",
      "+---------+\n",
      "  (Dropoff)\n",
      "\n",
      "Timestep: 10\n",
      "State: 475\n",
      "Action: 5\n",
      "Reward: 20\n"
     ]
    }
   ],
   "source": [
    "#this function is used for visualization\n",
    "def generate_frames(start_state,q_table):\n",
    "    env.s = start_state\n",
    "    s = start_state\n",
    "    policy = [np.argmax(i) for i in q_table]\n",
    "    epochs = 0\n",
    "    penalties, reward = 0, 0\n",
    "    frames = [] \n",
    "    done = False\n",
    "    frames.append({\n",
    "        'frame': env.render(mode='ansi'),\n",
    "        'state':  env.s ,\n",
    "        'action': \"Start\",\n",
    "        'reward': 0\n",
    "        }\n",
    "    )\n",
    "    while not done:\n",
    "        a = policy[s]\n",
    "        s, reward, done, info = env.step(a)\n",
    "        if reward == -10:\n",
    "            penalties += 1\n",
    "\n",
    "        # Put each rendered frame into dict for animation\n",
    "        frames.append({\n",
    "            'frame': env.render(mode='ansi'),\n",
    "            'state': s,\n",
    "            'action': a,\n",
    "            'reward': reward\n",
    "            }\n",
    "        )\n",
    "        epochs += 1\n",
    "    print(\"Timesteps taken: {}\".format(epochs))\n",
    "    print(\"Penalties incurred: {}\".format(penalties))\n",
    "    return frames\n",
    "frames = generate_frames(411,q_table)\n",
    "from time import sleep\n",
    "def print_frames(frames):\n",
    "    for i, frame in enumerate(frames):\n",
    "        clear_output(wait=True)\n",
    "        print(frame['frame'])\n",
    "        print(f\"Timestep: {i + 1}\")\n",
    "        print(f\"State: {frame['state']}\")\n",
    "        print(f\"Action: {frame['action']}\")\n",
    "        print(f\"Reward: {frame['reward']}\")\n",
    "        sleep(.4)\n",
    "print_frames(frames)"
   ]
  },
  {
   "cell_type": "code",
   "execution_count": null,
   "metadata": {},
   "outputs": [],
   "source": [
    "#operating system: Processor 1.8GHZ , Memory 8GB"
   ]
  },
  {
   "cell_type": "code",
   "execution_count": null,
   "metadata": {},
   "outputs": [],
   "source": []
  }
 ],
 "metadata": {
  "kernelspec": {
   "display_name": "Python 3",
   "language": "python",
   "name": "python3"
  },
  "language_info": {
   "codemirror_mode": {
    "name": "ipython",
    "version": 3
   },
   "file_extension": ".py",
   "mimetype": "text/x-python",
   "name": "python",
   "nbconvert_exporter": "python",
   "pygments_lexer": "ipython3",
   "version": "3.7.4"
  }
 },
 "nbformat": 4,
 "nbformat_minor": 2
}
